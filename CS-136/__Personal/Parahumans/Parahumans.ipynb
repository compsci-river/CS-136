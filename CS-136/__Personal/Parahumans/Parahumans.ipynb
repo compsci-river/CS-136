{
 "cells": [
  {
   "cell_type": "code",
   "execution_count": 10,
   "id": "e24e28b2",
   "metadata": {},
   "outputs": [
    {
     "name": "stdout",
     "output_type": "stream",
     "text": [
      "Collecting wikipedia\n",
      "  Using cached wikipedia-1.4.0.tar.gz (27 kB)\n",
      "Requirement already satisfied: beautifulsoup4 in c:\\programdata\\anaconda3\\lib\\site-packages (from wikipedia) (4.10.0)\n",
      "Requirement already satisfied: requests<3.0.0,>=2.0.0 in c:\\programdata\\anaconda3\\lib\\site-packages (from wikipedia) (2.26.0)\n",
      "Requirement already satisfied: certifi>=2017.4.17 in c:\\programdata\\anaconda3\\lib\\site-packages (from requests<3.0.0,>=2.0.0->wikipedia) (2021.10.8)\n",
      "Requirement already satisfied: charset-normalizer~=2.0.0 in c:\\programdata\\anaconda3\\lib\\site-packages (from requests<3.0.0,>=2.0.0->wikipedia) (2.0.4)\n",
      "Requirement already satisfied: urllib3<1.27,>=1.21.1 in c:\\programdata\\anaconda3\\lib\\site-packages (from requests<3.0.0,>=2.0.0->wikipedia) (1.26.7)\n",
      "Requirement already satisfied: idna<4,>=2.5 in c:\\programdata\\anaconda3\\lib\\site-packages (from requests<3.0.0,>=2.0.0->wikipedia) (3.2)\n",
      "Requirement already satisfied: soupsieve>1.2 in c:\\programdata\\anaconda3\\lib\\site-packages (from beautifulsoup4->wikipedia) (2.2.1)\n",
      "Building wheels for collected packages: wikipedia\n",
      "  Building wheel for wikipedia (setup.py): started\n",
      "  Building wheel for wikipedia (setup.py): finished with status 'done'\n",
      "  Created wheel for wikipedia: filename=wikipedia-1.4.0-py3-none-any.whl size=11696 sha256=fe04a3274c6dadf1675d65626a99dce770cbc5ee4af2f1f3e44afbf5f1676ff2\n",
      "  Stored in directory: c:\\users\\river\\appdata\\local\\pip\\cache\\wheels\\c2\\46\\f4\\caa1bee71096d7b0cdca2f2a2af45cacf35c5760bee8f00948\n",
      "Successfully built wikipedia\n",
      "Installing collected packages: wikipedia\n",
      "Successfully installed wikipedia-1.4.0\n"
     ]
    }
   ],
   "source": [
    "import sys\n",
    "!{sys.executable} -m pip install wikipedia"
   ]
  },
  {
   "cell_type": "code",
   "execution_count": 17,
   "id": "bba7f391",
   "metadata": {},
   "outputs": [],
   "source": [
    "import requests\n",
    "from bs4 import BeautifulSoup\n",
    "import wikipedia\n",
    "import random\n",
    "\n",
    "def wiki():\n",
    "    response = requests.get(url=\"https://en.wikipedia.org/wiki/Special:Random\",)\n",
    "    soup = BeautifulSoup(response.content, 'html.parser')\n",
    "    title = soup.find(id='firstHeading').string\n",
    "    sum = wikipedia.summary(title,sentences=3)\n",
    "    \n",
    "    return [title,sum]\n",
    "\n",
    "def classification():\n",
    "    clas = [\"Blaster\",\"Breaker\",\"Brute\",\"Changer\",\"Master\",\"Mover\",\"Shaker\",\"Stranger\",\"Striker\",\"Thinker\",\"Tinker\",\"Trump\"]\n",
    "    return clas[random.randint(0,11)]\n",
    "\n",
    "def nums():\n",
    "    pow = [1,2,3,4,5,6,7,8,9,10]\n",
    "    return [random.choices(pow, weights=(2,4,8,16,32,16,8,4,2,1)),random.randint(1,100)]\n",
    "\n",
    "def run():\n",
    "    wi = wiki()\n",
    "    cl = classification()\n",
    "    nu = nums()\n",
    "    \n",
    "    print(wi[0] + \"\\n\" + wi[1] + \"\\n\" + cl + \"\\n Power Level: \\t\" + str(nu[0][0]) + \"\\n Sync Level: \\t\" + str(nu[1]))"
   ]
  },
  {
   "cell_type": "code",
   "execution_count": 22,
   "id": "bc23332e",
   "metadata": {},
   "outputs": [
    {
     "name": "stdout",
     "output_type": "stream",
     "text": [
      "Korgan\n",
      "Korgan is a town and district of Ordu Province in the Black Sea region of Turkey. According to the 2000 census, the population of the district is 41,628 of which 15,587 live in the town of Korgan. The district covers an area of 233 km2 (90 sq mi), and the town lies at an elevation of 673 m (2,208 ft).\n",
      "Tinker\n",
      " Power Level: \t5\n",
      " Sync Level: \t70\n"
     ]
    }
   ],
   "source": [
    "run()"
   ]
  },
  {
   "cell_type": "code",
   "execution_count": null,
   "id": "c20c9f6b",
   "metadata": {},
   "outputs": [],
   "source": []
  }
 ],
 "metadata": {
  "kernelspec": {
   "display_name": "Python 3 (ipykernel)",
   "language": "python",
   "name": "python3"
  },
  "language_info": {
   "codemirror_mode": {
    "name": "ipython",
    "version": 3
   },
   "file_extension": ".py",
   "mimetype": "text/x-python",
   "name": "python",
   "nbconvert_exporter": "python",
   "pygments_lexer": "ipython3",
   "version": "3.9.7"
  }
 },
 "nbformat": 4,
 "nbformat_minor": 5
}
